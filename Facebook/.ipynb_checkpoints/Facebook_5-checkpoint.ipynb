{
 "cells": [
  {
   "cell_type": "markdown",
   "metadata": {},
   "source": [
    "#### You are given the root of a binary search tree. Return true if it is a valid binary search tree, and false otherwise. Recall that a binary search tree has the property that all values in the left subtree are less than or equal to the root, and all values in the right subtree are greater than or equal to the root."
   ]
  },
  {
   "cell_type": "code",
   "execution_count": 1,
   "metadata": {},
   "outputs": [],
   "source": [
    "class TreeNode:\n",
    "    def __init__(self, key):\n",
    "        self.left = None\n",
    "        self.right = None\n",
    "        self.key = key\n",
    "\n",
    "def is_bst(root):\n",
    "    if root == None :\n",
    "        return True\n",
    "    else :\n",
    "        is_left_bst = True\n",
    "        is_right_bst = True\n",
    "        if root.left != None :\n",
    "            is_left_bst = root.key > root.left.key\n",
    "            \n",
    "        if root.right != None :\n",
    "            is_right_bst = root.key < root.right.key\n",
    "        \n",
    "        return is_left_bst and is_bst(root.left) and is_right_bst and is_bst(root.right)"
   ]
  },
  {
   "cell_type": "code",
   "execution_count": 2,
   "metadata": {},
   "outputs": [
    {
     "name": "stdout",
     "output_type": "stream",
     "text": [
      "True\n"
     ]
    }
   ],
   "source": [
    "a = TreeNode(5)\n",
    "a.left = TreeNode(3)\n",
    "a.right = TreeNode(7)\n",
    "a.left.left = TreeNode(1)\n",
    "a.left.right = TreeNode(4)\n",
    "a.right.left = TreeNode(6)\n",
    "print(is_bst(a))\n",
    "\n",
    "#    5\n",
    "#   / \\\n",
    "#  3   7\n",
    "# / \\ /\n",
    "#1  4 6"
   ]
  },
  {
   "cell_type": "code",
   "execution_count": null,
   "metadata": {},
   "outputs": [],
   "source": []
  }
 ],
 "metadata": {
  "kernelspec": {
   "display_name": "kernel_36",
   "language": "python",
   "name": "kernel_36"
  },
  "language_info": {
   "codemirror_mode": {
    "name": "ipython",
    "version": 3
   },
   "file_extension": ".py",
   "mimetype": "text/x-python",
   "name": "python",
   "nbconvert_exporter": "python",
   "pygments_lexer": "ipython3",
   "version": "3.6.12"
  }
 },
 "nbformat": 4,
 "nbformat_minor": 4
}
