{
 "cells": [
  {
   "cell_type": "markdown",
   "metadata": {},
   "source": [
    "### Given a sorted list of numbers, return a list of strings that represent all of the consecutive numbers.\n",
    "\n",
    "##### <b>Example:</b>\n",
    "Input: [0, 1, 2, 5, 7, 8, 9, 9, 10, 11, 15]</br>\n",
    "Output: ['0->2', '5->5', '7->11', '15->15']</br>\n",
    "Assume that all numbers will be greater than or equal to 0, and each element can repeat.</br>\n"
   ]
  },
  {
   "cell_type": "code",
   "execution_count": 1,
   "metadata": {},
   "outputs": [],
   "source": [
    "def findRanges(nums):\n",
    "    res = []\n",
    "    theRange = \"\"\n",
    "    for index, num in enumerate(nums) :\n",
    "        if index < len(nums)-1 :\n",
    "            if index == 0 :\n",
    "                theRange += str(num)\n",
    "                theRange +=\"->\"\n",
    "            nextNum = nums[index + 1]\n",
    "            if num != nextNum and num+1 != nextNum :\n",
    "                theRange += str(num)\n",
    "                res.append(theRange)\n",
    "                theRange = str(nextNum)\n",
    "                theRange +=\"->\"\n",
    "        else :\n",
    "            theRange += str(num)\n",
    "            res.append(theRange)\n",
    "    return res"
   ]
  },
  {
   "cell_type": "code",
   "execution_count": 2,
   "metadata": {},
   "outputs": [
    {
     "name": "stdout",
     "output_type": "stream",
     "text": [
      "['0->2', '5->5', '7->11', '15->15']\n"
     ]
    }
   ],
   "source": [
    "print(findRanges([0, 1, 2, 5, 7, 8, 9, 9, 10, 11, 15]))\n",
    "# ['0->2', '5->5', '7->11', '15->15']"
   ]
  },
  {
   "cell_type": "code",
   "execution_count": null,
   "metadata": {},
   "outputs": [],
   "source": []
  }
 ],
 "metadata": {
  "kernelspec": {
   "display_name": "Python 3",
   "language": "python",
   "name": "python3"
  },
  "language_info": {
   "codemirror_mode": {
    "name": "ipython",
    "version": 3
   },
   "file_extension": ".py",
   "mimetype": "text/x-python",
   "name": "python",
   "nbconvert_exporter": "python",
   "pygments_lexer": "ipython3",
   "version": "3.6.13"
  }
 },
 "nbformat": 4,
 "nbformat_minor": 4
}
