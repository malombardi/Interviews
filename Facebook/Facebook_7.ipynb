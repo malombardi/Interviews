{
 "cells": [
  {
   "cell_type": "markdown",
   "metadata": {},
   "source": [
    "### Given a string, you need to reverse the order of characters in each word within a sentence while still preserving whitespace and initial word order.\n",
    "\n",
    "##### <b>Example 1:</b>\n",
    "Input: \"The cat in the hat\"</br>\n",
    "Output: \"ehT tac ni eht tah\"</br>\n",
    "Note: In the string, each word is separated by single space and there will not be any extra space in the string.</br>\n"
   ]
  },
  {
   "cell_type": "code",
   "execution_count": 1,
   "metadata": {},
   "outputs": [
    {
     "name": "stdout",
     "output_type": "stream",
     "text": [
      "ehT tac ni eht tah \n"
     ]
    }
   ],
   "source": [
    "class Solution:\n",
    "    def reverseWords(self, str):\n",
    "        strToReturn = \"\"\n",
    "        for s in str.split(\" \") :\n",
    "            strToReturn += s[::-1]\n",
    "            strToReturn +=\" \"\n",
    "        strToReturn.rstrip()\n",
    "        return strToReturn\n",
    "\n",
    "print(Solution().reverseWords(\"The cat in the hat\"))\n",
    "# ehT tac ni eht tah"
   ]
  },
  {
   "cell_type": "code",
   "execution_count": null,
   "metadata": {},
   "outputs": [],
   "source": []
  }
 ],
 "metadata": {
  "kernelspec": {
   "display_name": "Python 3",
   "language": "python",
   "name": "python3"
  },
  "language_info": {
   "codemirror_mode": {
    "name": "ipython",
    "version": 3
   },
   "file_extension": ".py",
   "mimetype": "text/x-python",
   "name": "python",
   "nbconvert_exporter": "python",
   "pygments_lexer": "ipython3",
   "version": "3.6.13"
  }
 },
 "nbformat": 4,
 "nbformat_minor": 4
}
