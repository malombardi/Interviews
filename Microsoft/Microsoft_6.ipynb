{
 "cells": [
  {
   "cell_type": "markdown",
   "metadata": {},
   "source": [
    "#### A unival tree is a tree where all the nodes have the same value. Given a binary tree, return the number of unival subtrees in the tree.\n",
    "\n",
    "##### For example, the following tree should return 5:\n",
    "\n",
    "#####   0\n",
    "#####   / \\\n",
    "#####  1   0\n",
    "#####     / \\\n",
    "#####    1   0\n",
    "#####   / \\\n",
    "#####  1   1\n",
    "\n",
    "##### The 5 trees are:\n",
    "##### - The three single '1' leaf nodes. (+3)\n",
    "##### - The single '0' leaf node. (+1)\n",
    "##### - The [1, 1, 1] tree at the bottom. (+1)"
   ]
  },
  {
   "cell_type": "code",
   "execution_count": 1,
   "metadata": {},
   "outputs": [],
   "source": [
    "class Node(object):\n",
    "    def __init__(self, val):\n",
    "        self.val = val\n",
    "        self.left = None\n",
    "        self.right = None\n",
    "\n",
    "def count_unival_subtrees(root):\n",
    "    if root.left == None and root.right == None :\n",
    "        return 1\n",
    "    if root.left != None and root.right != None :\n",
    "        if root.val == root.left.val == root.right.val :\n",
    "            return 1 + count_unival_subtrees(root.left) + count_unival_subtrees(root.right)\n",
    "        else :\n",
    "            return count_unival_subtrees(root.left) + count_unival_subtrees(root.right)\n",
    "    elif root.left != None :\n",
    "        if root.val == root.left.val :\n",
    "            return 1 + count_unival_subtrees(root.left)\n",
    "        else :\n",
    "            return count_unival_subtrees(root.left)\n",
    "    else :\n",
    "        if root.val == root.right.val :\n",
    "            return 1 + count_unival_subtrees(root.right)\n",
    "        else :\n",
    "            return count_unival_subtrees(root.right)"
   ]
  },
  {
   "cell_type": "code",
   "execution_count": 2,
   "metadata": {},
   "outputs": [
    {
     "name": "stdout",
     "output_type": "stream",
     "text": [
      "5\n"
     ]
    }
   ],
   "source": [
    "a = Node(0)\n",
    "a.left = Node(1)\n",
    "a.right = Node(0)\n",
    "a.right.left = Node(1)\n",
    "a.right.right = Node(0)\n",
    "a.right.left.left = Node(1)\n",
    "a.right.left.right = Node(1)\n",
    "\n",
    "print(count_unival_subtrees(a))\n",
    "# 5"
   ]
  },
  {
   "cell_type": "code",
   "execution_count": null,
   "metadata": {},
   "outputs": [],
   "source": []
  }
 ],
 "metadata": {
  "kernelspec": {
   "display_name": "kernel_36",
   "language": "python",
   "name": "kernel_36"
  },
  "language_info": {
   "codemirror_mode": {
    "name": "ipython",
    "version": 3
   },
   "file_extension": ".py",
   "mimetype": "text/x-python",
   "name": "python",
   "nbconvert_exporter": "python",
   "pygments_lexer": "ipython3",
   "version": "3.6.12"
  }
 },
 "nbformat": 4,
 "nbformat_minor": 4
}
