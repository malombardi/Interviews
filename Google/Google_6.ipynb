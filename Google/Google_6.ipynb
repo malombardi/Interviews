{
 "cells": [
  {
   "cell_type": "markdown",
   "metadata": {},
   "source": [
    "### Given two strings, find if there is a one-to-one mapping of characters between the two strings.\n",
    "\n",
    "##### <b>Example</b>\n",
    "Input: abc, def</br>\n",
    "Output: True # a -> d, b -> e, c -> f</br>\n",
    "\n",
    "Input: aab, def</br>\n",
    "Ouput: False # a can't map to d and e</br>"
   ]
  },
  {
   "cell_type": "code",
   "execution_count": 1,
   "metadata": {},
   "outputs": [],
   "source": [
    "def has_character_map(str1, str2):\n",
    "    mapping = dict()\n",
    "    for index,s1 in enumerate(str1) :\n",
    "        if s1 in mapping :\n",
    "            if str2[index] != mapping[s1] :\n",
    "                return False\n",
    "        else :\n",
    "            mapping[s1] = str2[index]\n",
    "    return True"
   ]
  },
  {
   "cell_type": "code",
   "execution_count": 2,
   "metadata": {},
   "outputs": [
    {
     "name": "stdout",
     "output_type": "stream",
     "text": [
      "True\n"
     ]
    }
   ],
   "source": [
    "print(has_character_map('abc', 'def'))\n",
    "# True"
   ]
  },
  {
   "cell_type": "code",
   "execution_count": 3,
   "metadata": {},
   "outputs": [
    {
     "name": "stdout",
     "output_type": "stream",
     "text": [
      "False\n"
     ]
    }
   ],
   "source": [
    "print(has_character_map('aac', 'def'))\n",
    "# False"
   ]
  },
  {
   "cell_type": "code",
   "execution_count": 4,
   "metadata": {},
   "outputs": [
    {
     "name": "stdout",
     "output_type": "stream",
     "text": [
      "True\n"
     ]
    }
   ],
   "source": [
    "print(has_character_map('abca', 'defd'))\n",
    "# True"
   ]
  },
  {
   "cell_type": "code",
   "execution_count": null,
   "metadata": {},
   "outputs": [],
   "source": []
  }
 ],
 "metadata": {
  "kernelspec": {
   "display_name": "Python 3",
   "language": "python",
   "name": "python3"
  },
  "language_info": {
   "codemirror_mode": {
    "name": "ipython",
    "version": 3
   },
   "file_extension": ".py",
   "mimetype": "text/x-python",
   "name": "python",
   "nbconvert_exporter": "python",
   "pygments_lexer": "ipython3",
   "version": "3.6.13"
  }
 },
 "nbformat": 4,
 "nbformat_minor": 4
}
