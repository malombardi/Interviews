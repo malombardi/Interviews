{
 "cells": [
  {
   "cell_type": "markdown",
   "metadata": {},
   "source": [
    "#### You are given the root of a binary tree. Return the deepest node (the furthest node from the root).\n",
    "\n",
    "##### Example:\n",
    "\n",
    "#####    a\n",
    "#####   / \\\n",
    "#####  b   c\n",
    "##### /\n",
    "##### d\n",
    "\n",
    "##### The deepest node in this tree is d at depth 3."
   ]
  },
  {
   "cell_type": "code",
   "execution_count": 1,
   "metadata": {},
   "outputs": [],
   "source": [
    "class Node(object):\n",
    "    def __init__(self, val):\n",
    "        self.val = val\n",
    "        self.left = None\n",
    "        self.right = None\n",
    "\n",
    "    def __repr__(self):\n",
    "        # string representation\n",
    "        return self.val\n",
    "\n",
    "def deepest(node):\n",
    "    count = 1\n",
    "    \n",
    "    if node.left == None and node.right == None :\n",
    "        return node, count\n",
    "    else : \n",
    "        counter_right = 0\n",
    "        counter_left = 0\n",
    "       \n",
    "        if node.right != None :\n",
    "            node_right, counter_right = deepest(node.right)\n",
    "        \n",
    "        if node.left != None :\n",
    "            node_left, counter_left = deepest(node.left)\n",
    "        \n",
    "        if counter_left > counter_right :\n",
    "            return (node_left, count + counter_left)\n",
    "        else :\n",
    "            return (node_right, count + counter_right)"
   ]
  },
  {
   "cell_type": "code",
   "execution_count": 2,
   "metadata": {},
   "outputs": [
    {
     "name": "stdout",
     "output_type": "stream",
     "text": [
      "(d, 3)\n"
     ]
    }
   ],
   "source": [
    "root = Node('a')\n",
    "root.left = Node('b')\n",
    "root.left.left = Node('d')\n",
    "root.right = Node('c')\n",
    "\n",
    "print(deepest(root))\n",
    "# (d, 3)"
   ]
  },
  {
   "cell_type": "code",
   "execution_count": null,
   "metadata": {},
   "outputs": [],
   "source": []
  }
 ],
 "metadata": {
  "kernelspec": {
   "display_name": "kernel_36",
   "language": "python",
   "name": "kernel_36"
  },
  "language_info": {
   "codemirror_mode": {
    "name": "ipython",
    "version": 3
   },
   "file_extension": ".py",
   "mimetype": "text/x-python",
   "name": "python",
   "nbconvert_exporter": "python",
   "pygments_lexer": "ipython3",
   "version": "3.6.12"
  }
 },
 "nbformat": 4,
 "nbformat_minor": 4
}
