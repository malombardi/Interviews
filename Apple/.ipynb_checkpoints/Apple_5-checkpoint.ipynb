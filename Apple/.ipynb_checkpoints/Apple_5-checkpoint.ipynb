{
 "cells": [
  {
   "cell_type": "markdown",
   "metadata": {},
   "source": [
    "#### Given an array with n objects colored red, white or blue, sort them in-place so that objects of the same color are adjacent, with the colors in the order red, white and blue.\n",
    "\n",
    "##### Here, we will use the integers 0, 1, and 2 to represent the color red, white, and blue respectively.\n",
    "\n",
    "##### Note: You are not suppose to use the library’s sort function for this problem.\n",
    "\n",
    "##### Can you do this in a single pass?\n",
    "\n",
    "##### Example:\n",
    "##### Input: [2,0,2,1,1,0]\n",
    "##### Output: [0,0,1,1,2,2]\n"
   ]
  },
  {
   "cell_type": "code",
   "execution_count": 1,
   "metadata": {},
   "outputs": [],
   "source": [
    "class Solution:\n",
    "    def sortColors(self, nums):\n",
    "        red = []\n",
    "        white = []\n",
    "        blue = []\n",
    "        for num in nums :\n",
    "            if num == 0 :\n",
    "                red.append(num)\n",
    "            elif num == 1 :\n",
    "                white.append(num)\n",
    "            else :\n",
    "                blue.append(num)\n",
    "        \n",
    "        nums[:] = list(red + white + blue)\n"
   ]
  },
  {
   "cell_type": "code",
   "execution_count": 2,
   "metadata": {},
   "outputs": [
    {
     "name": "stdout",
     "output_type": "stream",
     "text": [
      "Before Sort: \n",
      "[0, 1, 2, 2, 1, 1, 2, 2, 0, 0, 0, 0, 2, 1]\n",
      "After Sort: \n",
      "[0, 0, 0, 0, 0, 1, 1, 1, 1, 2, 2, 2, 2, 2]\n"
     ]
    }
   ],
   "source": [
    "nums = [0, 1, 2, 2, 1, 1, 2, 2, 0, 0, 0, 0, 2, 1]\n",
    "print(\"Before Sort: \")\n",
    "print(nums)\n",
    "# [0, 1, 2, 2, 1, 1, 2, 2, 0, 0, 0, 0, 2, 1]\n",
    "\n",
    "Solution().sortColors(nums)\n",
    "print(\"After Sort: \")\n",
    "print(nums)\n",
    "# [0, 0, 0, 0, 0, 1, 1, 1, 1, 2, 2, 2, 2, 2]"
   ]
  },
  {
   "cell_type": "code",
   "execution_count": null,
   "metadata": {},
   "outputs": [],
   "source": []
  }
 ],
 "metadata": {
  "kernelspec": {
   "display_name": "kernel_36",
   "language": "python",
   "name": "kernel_36"
  },
  "language_info": {
   "codemirror_mode": {
    "name": "ipython",
    "version": 3
   },
   "file_extension": ".py",
   "mimetype": "text/x-python",
   "name": "python",
   "nbconvert_exporter": "python",
   "pygments_lexer": "ipython3",
   "version": "3.6.12"
  }
 },
 "nbformat": 4,
 "nbformat_minor": 4
}
