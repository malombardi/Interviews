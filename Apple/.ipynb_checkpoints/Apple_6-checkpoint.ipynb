{
 "cells": [
  {
   "cell_type": "markdown",
   "metadata": {},
   "source": [
    "#### Given a list of words, and an arbitrary alphabetical order, verify that the words are in order of the alphabetical order.\n",
    "\n",
    "##### Example:\n",
    "##### Input:\n",
    "##### words = [\"abcd\", \"efgh\"], order=\"zyxwvutsrqponmlkjihgfedcba\"\n",
    "\n",
    "##### Output: False\n",
    "##### Explanation: 'e' comes before 'a' so 'efgh' should come before 'abcd'\n",
    "\n",
    "##### Example 2:\n",
    "##### Input:\n",
    "##### words = [\"zyx\", \"zyxw\", \"zyxwy\"],\n",
    "##### order=\"zyxwvutsrqponmlkjihgfedcba\"\n",
    "\n",
    "##### Output: True\n",
    "##### Explanation: The words are in increasing alphabetical order"
   ]
  },
  {
   "cell_type": "code",
   "execution_count": 1,
   "metadata": {},
   "outputs": [],
   "source": [
    "def isSorted(words, order):\n",
    "    position = 1\n",
    "    index = 0\n",
    "    while position < len(words) :\n",
    "        first_word = words[position - 1]\n",
    "        second_word = words[position]\n",
    "        \n",
    "        if index >= len(first_word) or index >= len(second_word) :\n",
    "            index = 0\n",
    "            position += 1\n",
    "            \n",
    "            if position == len(words) : \n",
    "                return True\n",
    "            \n",
    "        else :\n",
    "            first_word_letter_position = order.index(first_word[index])\n",
    "            second_word_letter_position = order.index(second_word[index])\n",
    "\n",
    "            if first_word_letter_position < second_word_letter_position :\n",
    "                return True\n",
    "            elif first_word_letter_position > second_word_letter_position :\n",
    "                return False\n",
    "            else :\n",
    "                index += 1"
   ]
  },
  {
   "cell_type": "code",
   "execution_count": 2,
   "metadata": {},
   "outputs": [
    {
     "name": "stdout",
     "output_type": "stream",
     "text": [
      "False\n",
      "True\n"
     ]
    }
   ],
   "source": [
    "print(isSorted([\"abcd\", \"efgh\"], \"zyxwvutsrqponmlkjihgfedcba\"))\n",
    "# False\n",
    "print(isSorted([\"zyx\", \"zyxw\", \"zyxwy\"],\n",
    "               \"zyxwvutsrqponmlkjihgfedcba\"))\n",
    "# True"
   ]
  },
  {
   "cell_type": "code",
   "execution_count": null,
   "metadata": {},
   "outputs": [],
   "source": []
  }
 ],
 "metadata": {
  "kernelspec": {
   "display_name": "kernel_36",
   "language": "python",
   "name": "kernel_36"
  },
  "language_info": {
   "codemirror_mode": {
    "name": "ipython",
    "version": 3
   },
   "file_extension": ".py",
   "mimetype": "text/x-python",
   "name": "python",
   "nbconvert_exporter": "python",
   "pygments_lexer": "ipython3",
   "version": "3.6.12"
  }
 },
 "nbformat": 4,
 "nbformat_minor": 4
}
