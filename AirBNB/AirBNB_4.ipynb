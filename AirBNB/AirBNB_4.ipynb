{
 "cells": [
  {
   "cell_type": "markdown",
   "metadata": {},
   "source": [
    "### Given a phone number, return all valid words that can be created using that phone number.\n",
    "\n",
    "##### For instance, given the phone number 364\n",
    "##### we can construct the words ['dog', 'fog']."
   ]
  },
  {
   "cell_type": "code",
   "execution_count": 1,
   "metadata": {},
   "outputs": [],
   "source": [
    "lettersMaps = {\n",
    "    1: [],\n",
    "    2: ['a', 'b', 'c'],\n",
    "    3: ['d', 'e', 'f'],\n",
    "    4: ['g', 'h', 'i'],\n",
    "    5: ['j', 'k', 'l'],\n",
    "    6: ['m', 'n', 'o'],\n",
    "    7: ['p', 'q', 'r', 's'],\n",
    "    8: ['t', 'u', 'v'],\n",
    "    9: ['w', 'x', 'y', 'z'],\n",
    "    0: []\n",
    "}\n",
    "\n",
    "validWords = ['dog', 'fish', 'cat', 'fog']\n",
    "\n",
    "def reverseDict() :\n",
    "    digitMap = dict()\n",
    "    for key,value in lettersMaps.items():\n",
    "        for c in value :\n",
    "            digitMap[c] = key\n",
    "    return digitMap\n",
    "\n",
    "def findOccurrences(phone):\n",
    "    reversedMap = reverseDict()\n",
    "    posibleNumbers = []\n",
    "    for w in validWords :\n",
    "        num = \"\"\n",
    "        for c in w :\n",
    "            num += str(reversedMap[c])\n",
    "        posibleNumbers.append(num)\n",
    "    offset = -1\n",
    "    result = []\n",
    "    while True:\n",
    "        try:\n",
    "            offset = posibleNumbers.index(phone, offset+1)\n",
    "        except ValueError:\n",
    "            return result\n",
    "        result.append(offset)\n",
    "        \n",
    "def makeWords(phone):\n",
    "    positions = findOccurrences(phone)\n",
    "    result = []\n",
    "    for pos in positions :\n",
    "        result.append(validWords[pos])\n",
    "    return result    "
   ]
  },
  {
   "cell_type": "code",
   "execution_count": 2,
   "metadata": {},
   "outputs": [
    {
     "name": "stdout",
     "output_type": "stream",
     "text": [
      "['dog', 'fog']\n"
     ]
    }
   ],
   "source": [
    "print(makeWords('364'))\n",
    "# ['dog', 'fog']"
   ]
  },
  {
   "cell_type": "code",
   "execution_count": null,
   "metadata": {},
   "outputs": [],
   "source": []
  }
 ],
 "metadata": {
  "kernelspec": {
   "display_name": "Python 3",
   "language": "python",
   "name": "python3"
  },
  "language_info": {
   "codemirror_mode": {
    "name": "ipython",
    "version": 3
   },
   "file_extension": ".py",
   "mimetype": "text/x-python",
   "name": "python",
   "nbconvert_exporter": "python",
   "pygments_lexer": "ipython3",
   "version": "3.6.13"
  }
 },
 "nbformat": 4,
 "nbformat_minor": 4
}
