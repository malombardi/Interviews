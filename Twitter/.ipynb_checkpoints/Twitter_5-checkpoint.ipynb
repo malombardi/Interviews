{
 "cells": [
  {
   "cell_type": "markdown",
   "metadata": {},
   "source": [
    "#### Given an array, nums, of n integers, find all unique triplets (three numbers, a, b, & c) in nums such that a + b + c = 0. Note that there may not be any triplets that sum to zero in nums, and that the triplets must not be duplicates.\n",
    "\n",
    "##### Example:\n",
    "##### Input: nums = [0, -1, 2, -3, 1]\n",
    "##### Output: [0, -1, 1], [2, -3, 1]"
   ]
  },
  {
   "cell_type": "code",
   "execution_count": 1,
   "metadata": {},
   "outputs": [],
   "source": [
    "class Solution(object):\n",
    "    def threeSum(self, nums):\n",
    "        n = len(nums)\n",
    "        sums = []\n",
    "\n",
    "        for i in range(0, n - 2):\n",
    "            for j in range(i + 1, n - 1):\n",
    "                for k in range(j + 1, n):\n",
    "                    three_num_sum = nums[i] + nums[j] + nums[k]\n",
    "                    if three_num_sum == 0:\n",
    "                        sums.append([nums[i], nums[j], nums[k]])\n",
    "        return sums"
   ]
  },
  {
   "cell_type": "code",
   "execution_count": 2,
   "metadata": {},
   "outputs": [
    {
     "name": "stdout",
     "output_type": "stream",
     "text": [
      "[[1, -2, 1]]\n",
      "[[0, -1, 1], [2, -3, 1]]\n"
     ]
    }
   ],
   "source": [
    "# Test Program\n",
    "nums = [1, -2, 1, 0, 5]\n",
    "print(Solution().threeSum(nums))\n",
    "# [[-2, 1, 1]]\n",
    "nums = [0, -1, 2, -3, 1]\n",
    "print(Solution().threeSum(nums))"
   ]
  },
  {
   "cell_type": "code",
   "execution_count": null,
   "metadata": {},
   "outputs": [],
   "source": [
    " "
   ]
  }
 ],
 "metadata": {
  "kernelspec": {
   "display_name": "kernel_36",
   "language": "python",
   "name": "kernel_36"
  },
  "language_info": {
   "codemirror_mode": {
    "name": "ipython",
    "version": 3
   },
   "file_extension": ".py",
   "mimetype": "text/x-python",
   "name": "python",
   "nbconvert_exporter": "python",
   "pygments_lexer": "ipython3",
   "version": "3.6.12"
  }
 },
 "nbformat": 4,
 "nbformat_minor": 4
}
