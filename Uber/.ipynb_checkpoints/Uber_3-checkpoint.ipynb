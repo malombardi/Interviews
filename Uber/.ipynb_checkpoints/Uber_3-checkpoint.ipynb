{
 "cells": [
  {
   "cell_type": "markdown",
   "metadata": {},
   "source": [
    "#### You are given a string of parenthesis. Return the minimum number of parenthesis that would need to be removed in order to make the string valid. \"Valid\" means that each open parenthesis has a matching closed parenthesis.\n",
    "\n",
    "##### Example:\n",
    "\n",
    "##### \"()())()\"\n",
    "\n",
    "##### The following input should return 1.\n",
    "\n",
    "##### \")\"\n"
   ]
  },
  {
   "cell_type": "code",
   "execution_count": 1,
   "metadata": {},
   "outputs": [],
   "source": [
    "def count_invalid_parenthesis(string):\n",
    "    opening=['(']\n",
    "    closing=[')']\n",
    "    stack = []\n",
    "    invalids = []\n",
    "\n",
    "    for i in range(len(string)):\n",
    "        if string[i] in opening:\n",
    "            stack.append(string[i])\n",
    "        else :\n",
    "            if len(stack) == 0:\n",
    "                invalids.append(string[i])\n",
    "            else :\n",
    "                stack.pop()\n",
    "           \n",
    "    return len(stack) + len(invalids)"
   ]
  },
  {
   "cell_type": "code",
   "execution_count": 2,
   "metadata": {},
   "outputs": [
    {
     "name": "stdout",
     "output_type": "stream",
     "text": [
      "1\n"
     ]
    }
   ],
   "source": [
    "print(count_invalid_parenthesis(\"()())()\"))\n",
    "# 1"
   ]
  },
  {
   "cell_type": "code",
   "execution_count": null,
   "metadata": {},
   "outputs": [],
   "source": []
  }
 ],
 "metadata": {
  "kernelspec": {
   "display_name": "kernel_36",
   "language": "python",
   "name": "kernel_36"
  },
  "language_info": {
   "codemirror_mode": {
    "name": "ipython",
    "version": 3
   },
   "file_extension": ".py",
   "mimetype": "text/x-python",
   "name": "python",
   "nbconvert_exporter": "python",
   "pygments_lexer": "ipython3",
   "version": "3.6.12"
  }
 },
 "nbformat": 4,
 "nbformat_minor": 4
}
