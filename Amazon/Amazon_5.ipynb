{
 "cells": [
  {
   "cell_type": "markdown",
   "metadata": {},
   "source": [
    "### Given a string that may represent a number, determine if it is a number. Here's some of examples of how the number may be presented:\n",
    "\"123\" # Integer </br>\n",
    "\"12.3\" # Floating point</br>\n",
    "\"-123\" # Negative numbers</br>\n",
    "\"-.3\" # Negative floating point</br>\n",
    "\"1.5e5\" # Scientific notation</br>\n",
    "##### <b>Here's some examples of what isn't a proper number:</b>\n",
    "\"12a\" # No letters</br>\n",
    "\"1 2\" # No space between numbers</br>\n",
    "\"1e1.2\" # Exponent can only be an integer (positive or negative or 0)</br>\n",
    "##### <b>Scientific notation requires the first number to be less than 10, however to simplify the solution assume the first number can be greater than 10. Do not parse the string with int() or any other python functions.</b>\n"
   ]
  },
  {
   "cell_type": "code",
   "execution_count": 1,
   "metadata": {},
   "outputs": [],
   "source": [
    "import re\n",
    "def parse_number(s):\n",
    "    search = re.search('[a-zA-Z]', s)\n",
    "    if search :\n",
    "        if search.group(0) != 'e':\n",
    "            return False\n",
    "        else :\n",
    "            return True\n",
    "    else :\n",
    "        return True"
   ]
  },
  {
   "cell_type": "code",
   "execution_count": 2,
   "metadata": {},
   "outputs": [
    {
     "name": "stdout",
     "output_type": "stream",
     "text": [
      "True\n"
     ]
    }
   ],
   "source": [
    "print(parse_number(\"12.3\"))\n",
    "# True"
   ]
  },
  {
   "cell_type": "code",
   "execution_count": 3,
   "metadata": {},
   "outputs": [
    {
     "name": "stdout",
     "output_type": "stream",
     "text": [
      "False\n"
     ]
    }
   ],
   "source": [
    "print(parse_number(\"12a\"))\n",
    "# False"
   ]
  },
  {
   "cell_type": "code",
   "execution_count": 4,
   "metadata": {},
   "outputs": [
    {
     "name": "stdout",
     "output_type": "stream",
     "text": [
      "True\n"
     ]
    }
   ],
   "source": [
    "print(parse_number(\"12e\"))\n",
    "# True"
   ]
  },
  {
   "cell_type": "code",
   "execution_count": null,
   "metadata": {},
   "outputs": [],
   "source": []
  }
 ],
 "metadata": {
  "kernelspec": {
   "display_name": "Python 3",
   "language": "python",
   "name": "python3"
  },
  "language_info": {
   "codemirror_mode": {
    "name": "ipython",
    "version": 3
   },
   "file_extension": ".py",
   "mimetype": "text/x-python",
   "name": "python",
   "nbconvert_exporter": "python",
   "pygments_lexer": "ipython3",
   "version": "3.6.13"
  }
 },
 "nbformat": 4,
 "nbformat_minor": 4
}
