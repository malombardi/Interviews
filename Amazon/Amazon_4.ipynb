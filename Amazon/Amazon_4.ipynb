{
 "cells": [
  {
   "cell_type": "markdown",
   "metadata": {},
   "source": [
    "#### You are given a 2D array of integers. Print out the clockwise spiral traversal of the matrix.\n",
    "\n",
    "##### Example:\n",
    "\n",
    "##### grid = [[1,  2,  3,  4,  5],\n",
    "#####         [6,  7,  8,  9,  10],\n",
    "#####         [11, 12, 13, 14, 15],\n",
    "#####         [16, 17, 18, 19, 20]]\n",
    "\n",
    "##### The clockwise spiral traversal of this array is:\n",
    "\n",
    "##### 1, 2, 3, 4, 5, 10, 15, 20, 19, 18, 17, 16, 11, 6, 7, 8, 9, 14, 13, 12"
   ]
  },
  {
   "cell_type": "code",
   "execution_count": 1,
   "metadata": {},
   "outputs": [],
   "source": [
    "def matrix_spiral_print(M):\n",
    "    result = []\n",
    "    while M :\n",
    "        top = M.pop(0)\n",
    "        for num in top :\n",
    "            result.append(num)\n",
    "            \n",
    "        most_right = len(top)-1\n",
    "        for values in M :\n",
    "            result.append(values.pop(most_right))\n",
    "            \n",
    "        bottom = M.pop(len(M)-1)[::-1]\n",
    "        for num in bottom :\n",
    "            result.append(num)\n",
    "        \n",
    "        for values in M[::-1] :\n",
    "            result.append(values.pop(0))\n",
    "            \n",
    "    print(result)"
   ]
  },
  {
   "cell_type": "code",
   "execution_count": 2,
   "metadata": {},
   "outputs": [
    {
     "name": "stdout",
     "output_type": "stream",
     "text": [
      "[1, 2, 3, 4, 5, 10, 15, 20, 19, 18, 17, 16, 11, 6, 7, 8, 9, 14, 13, 12]\n"
     ]
    }
   ],
   "source": [
    "grid = [[1,  2,  3,  4,  5],\n",
    "        [6,  7,  8,  9,  10],\n",
    "        [11, 12, 13, 14, 15],\n",
    "        [16, 17, 18, 19, 20]]\n",
    "\n",
    "matrix_spiral_print(grid)\n",
    "# 1 2 3 4 5 10 15 20 19 18 17 16 11 6 7 8 9 14 13 12"
   ]
  },
  {
   "cell_type": "code",
   "execution_count": null,
   "metadata": {},
   "outputs": [],
   "source": []
  }
 ],
 "metadata": {
  "kernelspec": {
   "display_name": "kernel_36",
   "language": "python",
   "name": "kernel_36"
  },
  "language_info": {
   "codemirror_mode": {
    "name": "ipython",
    "version": 3
   },
   "file_extension": ".py",
   "mimetype": "text/x-python",
   "name": "python",
   "nbconvert_exporter": "python",
   "pygments_lexer": "ipython3",
   "version": "3.6.12"
  }
 },
 "nbformat": 4,
 "nbformat_minor": 4
}
