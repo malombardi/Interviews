{
 "cells": [
  {
   "cell_type": "markdown",
   "metadata": {},
   "source": [
    "#### Given a binary tree, return all values given a certain height h."
   ]
  },
  {
   "cell_type": "code",
   "execution_count": 1,
   "metadata": {},
   "outputs": [],
   "source": [
    "class Node():\n",
    "    def __init__(self, value, left=None, right=None):\n",
    "        self.value = value\n",
    "        self.left = left\n",
    "        self.right = right\n",
    "\n",
    "def valuesAtHeight(root, height):\n",
    "    if root != None and height == 1 :\n",
    "        return root.value\n",
    "    elif root != None :\n",
    "        result = []\n",
    "        if root.left != None:\n",
    "            result.append(valuesAtHeight(root.left, height-1))\n",
    "        if root.right != None :\n",
    "            result.append(valuesAtHeight(root.right, height-1))\n",
    "        return result\n",
    "        "
   ]
  },
  {
   "cell_type": "code",
   "execution_count": 2,
   "metadata": {},
   "outputs": [
    {
     "name": "stdout",
     "output_type": "stream",
     "text": [
      "[[4, 5], [7]]\n"
     ]
    }
   ],
   "source": [
    "#     1\n",
    "#    / \\\n",
    "#   2   3\n",
    "#  / \\   \\\n",
    "# 4   5   7\n",
    "\n",
    "a = Node(1)\n",
    "a.left = Node(2)\n",
    "a.right = Node(3)\n",
    "a.left.left = Node(4)\n",
    "a.left.right = Node(5)\n",
    "a.right.right = Node(7)\n",
    "print(valuesAtHeight(a, 3))\n",
    "# [[4, 5], [7]]"
   ]
  },
  {
   "cell_type": "code",
   "execution_count": null,
   "metadata": {},
   "outputs": [],
   "source": []
  }
 ],
 "metadata": {
  "kernelspec": {
   "display_name": "kernel_36",
   "language": "python",
   "name": "kernel_36"
  },
  "language_info": {
   "codemirror_mode": {
    "name": "ipython",
    "version": 3
   },
   "file_extension": ".py",
   "mimetype": "text/x-python",
   "name": "python",
   "nbconvert_exporter": "python",
   "pygments_lexer": "ipython3",
   "version": "3.6.12"
  }
 },
 "nbformat": 4,
 "nbformat_minor": 4
}
