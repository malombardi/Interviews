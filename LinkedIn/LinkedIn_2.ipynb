{
 "cells": [
  {
   "cell_type": "markdown",
   "metadata": {},
   "source": [
    "### Given a list of numbers and an integer k, partition/sort the list such that the all numbers less than k occur before k, and all numbers greater than k occur after the number k."
   ]
  },
  {
   "cell_type": "code",
   "execution_count": 1,
   "metadata": {},
   "outputs": [],
   "source": [
    "def partition_list(nums, k):\n",
    "    lower = []\n",
    "    bigger = []\n",
    "    for num in nums :\n",
    "        if num < k :\n",
    "            lower.append(num)\n",
    "        else :\n",
    "            bigger.append(num)\n",
    "    result = []\n",
    "    result.append(lower)\n",
    "    result.append(bigger)\n",
    "    \n",
    "    return [item for sublist in result for item in sublist] #Flatten the list of list"
   ]
  },
  {
   "cell_type": "code",
   "execution_count": 2,
   "metadata": {},
   "outputs": [
    {
     "name": "stdout",
     "output_type": "stream",
     "text": [
      "[2, 2, 2, 2, 2, 2, 2, 5, 5]\n"
     ]
    }
   ],
   "source": [
    "print(partition_list([2, 2, 2, 5, 2, 2, 2, 2, 5], 3))\n",
    "# [2, 2, 2, 2, 2, 2, 2, 5, 5]"
   ]
  },
  {
   "cell_type": "code",
   "execution_count": null,
   "metadata": {},
   "outputs": [],
   "source": []
  }
 ],
 "metadata": {
  "kernelspec": {
   "display_name": "Python 3",
   "language": "python",
   "name": "python3"
  },
  "language_info": {
   "codemirror_mode": {
    "name": "ipython",
    "version": 3
   },
   "file_extension": ".py",
   "mimetype": "text/x-python",
   "name": "python",
   "nbconvert_exporter": "python",
   "pygments_lexer": "ipython3",
   "version": "3.6.13"
  }
 },
 "nbformat": 4,
 "nbformat_minor": 4
}
